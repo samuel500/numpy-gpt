{
 "cells": [
  {
   "cell_type": "code",
   "execution_count": 1,
   "metadata": {},
   "outputs": [],
   "source": [
    "import numpy as np\n",
    "import random\n",
    "\n",
    "from nptransformer.gpt import GPT\n",
    "from nptransformer.optim import Adam, SGD\n",
    "\n",
    "import gc"
   ]
  },
  {
   "cell_type": "code",
   "execution_count": null,
   "metadata": {},
   "outputs": [],
   "source": []
  },
  {
   "cell_type": "code",
   "execution_count": 2,
   "metadata": {},
   "outputs": [],
   "source": [
    "def generate_addition_dataset(n_adds=700, n_digits=5):\n",
    "    n_possible_digits = 10**n_digits\n",
    "    xs = []\n",
    "    ys = []\n",
    "    for _ in range(n_adds):\n",
    "        a = random.randint(0, n_possible_digits-1)\n",
    "        b = random.randint(0, n_possible_digits-1) \n",
    "        c = a + b\n",
    "        # encode the digits of a, b, c into strings\n",
    "        astr = f'%0{n_digits}d' % a\n",
    "        bstr = f'%0{n_digits}d' % b\n",
    "        cstr = (f'%0{n_digits+1}d' % c)[::-1]\n",
    "\n",
    "        render = astr + bstr + cstr\n",
    "\n",
    "        dix = [int(s) for s in render]\n",
    "\n",
    "        x = np.array(dix[:-1])\n",
    "        xs.append(x)\n",
    "\n",
    "        y = np.array(dix[1:])\n",
    "        y[:n_digits*2-1] = -1 \n",
    "        ys.append(y)\n",
    "\n",
    "    xs = np.array(xs)\n",
    "    ys = np.array(ys)\n",
    "\n",
    "    return xs, ys\n"
   ]
  },
  {
   "cell_type": "code",
   "execution_count": 3,
   "metadata": {},
   "outputs": [],
   "source": [
    "N_DIGITS = 5\n",
    "BLOCK_SIZE = 3*N_DIGITS\n",
    "VOCAB_SIZE = 10"
   ]
  },
  {
   "cell_type": "code",
   "execution_count": 4,
   "metadata": {},
   "outputs": [],
   "source": [
    "model = GPT(n_layers=1, n_heads=4, n_embd=64, vocab_size=VOCAB_SIZE, block_size=BLOCK_SIZE, pdrop=0)\n",
    "optim = Adam(model.get_trainable_tensors(), learning_rate=1e-3, weight_decay=2.)"
   ]
  },
  {
   "cell_type": "code",
   "execution_count": 5,
   "metadata": {},
   "outputs": [],
   "source": [
    "\n",
    "train_dataset = generate_addition_dataset(n_adds=700)\n",
    "x, y = train_dataset\n",
    "\n",
    "test_dataset = generate_addition_dataset(n_adds=1000)\n",
    "x_test, y_test = test_dataset"
   ]
  },
  {
   "cell_type": "code",
   "execution_count": 6,
   "metadata": {},
   "outputs": [],
   "source": [
    "train_losses = []\n",
    "test_losses = []\n",
    "epoch = 0"
   ]
  },
  {
   "cell_type": "code",
   "execution_count": null,
   "metadata": {},
   "outputs": [],
   "source": []
  },
  {
   "cell_type": "code",
   "execution_count": 7,
   "metadata": {},
   "outputs": [
    {
     "name": "stdout",
     "output_type": "stream",
     "text": [
      "EPOCH 0, Train loss: 2.303114891052246, Test loss: 2.3018624782562256\n",
      "EPOCH 100, Train loss: 2.0236706733703613, Test loss: 2.034237861633301\n",
      "EPOCH 200, Train loss: 1.9674663543701172, Test loss: 1.9972832202911377\n",
      "EPOCH 300, Train loss: 1.8903307914733887, Test loss: 1.9419467449188232\n",
      "EPOCH 400, Train loss: 1.8649548292160034, Test loss: 1.9534271955490112\n",
      "EPOCH 500, Train loss: 1.7974289655685425, Test loss: 1.9387422800064087\n",
      "EPOCH 600, Train loss: 1.6928458213806152, Test loss: 1.867343783378601\n",
      "EPOCH 700, Train loss: 1.5622057914733887, Test loss: 1.7652071714401245\n",
      "EPOCH 800, Train loss: 1.465627670288086, Test loss: 1.73318612575531\n",
      "EPOCH 900, Train loss: 1.378197431564331, Test loss: 1.7595679759979248\n",
      "EPOCH 1000, Train loss: 1.2719589471817017, Test loss: 1.8565114736557007\n",
      "EPOCH 1100, Train loss: 1.125173568725586, Test loss: 2.049532651901245\n",
      "EPOCH 1200, Train loss: 0.9145781397819519, Test loss: 2.3112833499908447\n",
      "EPOCH 1300, Train loss: 0.6751753091812134, Test loss: 2.6800179481506348\n",
      "EPOCH 1400, Train loss: 0.4981997609138489, Test loss: 3.056485891342163\n",
      "EPOCH 1500, Train loss: 0.36933520436286926, Test loss: 3.333798885345459\n",
      "EPOCH 1600, Train loss: 0.2825494408607483, Test loss: 3.6270570755004883\n",
      "EPOCH 1700, Train loss: 0.23313099145889282, Test loss: 3.74877667427063\n",
      "EPOCH 1800, Train loss: 0.208693265914917, Test loss: 3.706003189086914\n",
      "EPOCH 1900, Train loss: 0.1687019318342209, Test loss: 3.898430585861206\n",
      "EPOCH 2000, Train loss: 0.13457611203193665, Test loss: 4.120329856872559\n",
      "EPOCH 2100, Train loss: 0.1758100837469101, Test loss: 3.5765209197998047\n",
      "EPOCH 2200, Train loss: 0.12384402006864548, Test loss: 3.972341537475586\n",
      "EPOCH 2300, Train loss: 0.09922224283218384, Test loss: 4.131985664367676\n",
      "EPOCH 2400, Train loss: 0.15274344384670258, Test loss: 3.5120744705200195\n",
      "EPOCH 2500, Train loss: 0.10972730070352554, Test loss: 3.8826003074645996\n",
      "EPOCH 2600, Train loss: 0.07867494225502014, Test loss: 4.220358848571777\n",
      "EPOCH 2700, Train loss: 0.11751905828714371, Test loss: 3.6704471111297607\n",
      "EPOCH 2800, Train loss: 0.0844949409365654, Test loss: 4.011175632476807\n",
      "EPOCH 2900, Train loss: 0.06944993138313293, Test loss: 4.275136470794678\n",
      "EPOCH 3000, Train loss: 0.05439741909503937, Test loss: 4.393932342529297\n",
      "EPOCH 3100, Train loss: 0.09521571546792984, Test loss: 3.742058277130127\n",
      "EPOCH 3200, Train loss: 0.05950281023979187, Test loss: 4.238304615020752\n",
      "EPOCH 3300, Train loss: 0.0943269357085228, Test loss: 3.6683335304260254\n",
      "EPOCH 3400, Train loss: 0.07906167954206467, Test loss: 3.96685791015625\n",
      "EPOCH 3500, Train loss: 0.054322950541973114, Test loss: 4.225517749786377\n",
      "EPOCH 3600, Train loss: 0.0501563623547554, Test loss: 4.2324090003967285\n",
      "EPOCH 3700, Train loss: 0.07806361466646194, Test loss: 3.761045217514038\n",
      "EPOCH 3800, Train loss: 0.05469176173210144, Test loss: 4.077584743499756\n",
      "EPOCH 3900, Train loss: 0.07797233015298843, Test loss: 3.8307766914367676\n",
      "EPOCH 4000, Train loss: 0.06864667683839798, Test loss: 3.791135787963867\n",
      "EPOCH 4100, Train loss: 0.04069359228014946, Test loss: 4.291070461273193\n",
      "EPOCH 4200, Train loss: 0.06940959393978119, Test loss: 3.7404353618621826\n",
      "EPOCH 4300, Train loss: 0.04439680278301239, Test loss: 4.270429611206055\n",
      "EPOCH 4400, Train loss: 0.0891459733247757, Test loss: 3.4763646125793457\n",
      "EPOCH 4500, Train loss: 0.05664447695016861, Test loss: 3.926887035369873\n",
      "EPOCH 4600, Train loss: 0.08160750567913055, Test loss: 3.536278009414673\n",
      "EPOCH 4700, Train loss: 0.055255990475416183, Test loss: 3.9148855209350586\n",
      "EPOCH 4800, Train loss: 0.0346323624253273, Test loss: 4.402486324310303\n",
      "EPOCH 4900, Train loss: 0.073597252368927, Test loss: 3.5983598232269287\n",
      "EPOCH 5000, Train loss: 0.05246146023273468, Test loss: 3.8708395957946777\n",
      "EPOCH 5100, Train loss: 0.07423673570156097, Test loss: 3.6090476512908936\n",
      "EPOCH 5200, Train loss: 0.05104358494281769, Test loss: 3.8692920207977295\n",
      "EPOCH 5300, Train loss: 0.03669928386807442, Test loss: 4.270369529724121\n",
      "EPOCH 5400, Train loss: 0.07622060924768448, Test loss: 3.4975481033325195\n",
      "EPOCH 5500, Train loss: 0.040279898792505264, Test loss: 4.069960117340088\n",
      "EPOCH 5600, Train loss: 0.06750652194023132, Test loss: 3.560178756713867\n",
      "EPOCH 5700, Train loss: 0.03556782752275467, Test loss: 4.115837097167969\n",
      "EPOCH 5800, Train loss: 0.057644136250019073, Test loss: 3.708285331726074\n",
      "EPOCH 5900, Train loss: 0.03384435549378395, Test loss: 4.1772074699401855\n",
      "EPOCH 6000, Train loss: 0.060773815959692, Test loss: 3.753373861312866\n",
      "EPOCH 6100, Train loss: 0.0639677494764328, Test loss: 3.5678019523620605\n",
      "EPOCH 6200, Train loss: 0.038862455636262894, Test loss: 4.011446475982666\n",
      "EPOCH 6300, Train loss: 0.06938739120960236, Test loss: 3.4552736282348633\n",
      "EPOCH 6400, Train loss: 0.03986940532922745, Test loss: 4.006783485412598\n",
      "EPOCH 6500, Train loss: 0.03487201780080795, Test loss: 4.06975793838501\n",
      "EPOCH 6600, Train loss: 0.056277453899383545, Test loss: 3.7324843406677246\n",
      "EPOCH 6700, Train loss: 0.04009071737527847, Test loss: 3.88371205329895\n",
      "EPOCH 6800, Train loss: 0.0536494255065918, Test loss: 3.626433849334717\n",
      "EPOCH 6900, Train loss: 0.030040819197893143, Test loss: 4.169231414794922\n",
      "EPOCH 7000, Train loss: 0.04896777123212814, Test loss: 3.7170827388763428\n",
      "EPOCH 7100, Train loss: 0.025976071134209633, Test loss: 4.291800022125244\n",
      "EPOCH 7200, Train loss: 0.0528206042945385, Test loss: 3.6173927783966064\n",
      "EPOCH 7300, Train loss: 0.03462032601237297, Test loss: 4.095179557800293\n",
      "EPOCH 7400, Train loss: 0.051555484533309937, Test loss: 3.6859755516052246\n",
      "EPOCH 7500, Train loss: 0.0228061992675066, Test loss: 4.271911144256592\n",
      "EPOCH 7600, Train loss: 0.023598240688443184, Test loss: 4.233642578125\n",
      "EPOCH 7700, Train loss: 0.04367593303322792, Test loss: 3.758511781692505\n",
      "EPOCH 7800, Train loss: 0.02532278373837471, Test loss: 4.176076889038086\n",
      "EPOCH 7900, Train loss: 0.012932419776916504, Test loss: 4.75949764251709\n",
      "EPOCH 8000, Train loss: 0.04931074380874634, Test loss: 3.5984103679656982\n",
      "EPOCH 8100, Train loss: 0.08120839297771454, Test loss: 4.136302947998047\n",
      "EPOCH 8200, Train loss: 0.039884235709905624, Test loss: 3.8539435863494873\n",
      "EPOCH 8300, Train loss: 0.022565066814422607, Test loss: 4.632725238800049\n",
      "EPOCH 8400, Train loss: 0.04783942550420761, Test loss: 3.5763070583343506\n",
      "EPOCH 8500, Train loss: 0.03015493042767048, Test loss: 4.024210453033447\n",
      "EPOCH 8600, Train loss: 0.04665747284889221, Test loss: 3.7766993045806885\n",
      "EPOCH 8700, Train loss: 0.029376450926065445, Test loss: 3.986581325531006\n",
      "EPOCH 8800, Train loss: 0.04226173833012581, Test loss: 3.693315267562866\n",
      "EPOCH 8900, Train loss: 0.03723013028502464, Test loss: 3.828556776046753\n",
      "EPOCH 9000, Train loss: 0.02167183719575405, Test loss: 4.343681335449219\n",
      "EPOCH 9100, Train loss: 0.042030218988657, Test loss: 3.648871421813965\n",
      "EPOCH 9200, Train loss: 0.04241500422358513, Test loss: 4.046107769012451\n",
      "EPOCH 9300, Train loss: 0.03548705577850342, Test loss: 4.023332595825195\n",
      "EPOCH 9400, Train loss: 0.014375978149473667, Test loss: 4.496329307556152\n",
      "EPOCH 9500, Train loss: 0.04471157491207123, Test loss: 3.6233088970184326\n",
      "EPOCH 9600, Train loss: 0.04229925572872162, Test loss: 3.7268290519714355\n",
      "EPOCH 9700, Train loss: 0.0291459821164608, Test loss: 4.0595927238464355\n",
      "EPOCH 9800, Train loss: 0.040865134447813034, Test loss: 4.449391841888428\n",
      "EPOCH 9900, Train loss: 0.033578306436538696, Test loss: 3.823392629623413\n",
      "EPOCH 10000, Train loss: 0.032808899879455566, Test loss: 3.892190933227539\n",
      "EPOCH 10100, Train loss: 0.03042501024901867, Test loss: 4.021193981170654\n",
      "EPOCH 10200, Train loss: 0.04824742302298546, Test loss: 4.217837333679199\n",
      "EPOCH 10300, Train loss: 0.025624742731451988, Test loss: 3.9746761322021484\n",
      "EPOCH 10400, Train loss: 0.03885418921709061, Test loss: 3.7671854496002197\n",
      "EPOCH 10500, Train loss: 0.021590936928987503, Test loss: 4.078229904174805\n",
      "EPOCH 10600, Train loss: 0.03494628891348839, Test loss: 3.7264373302459717\n",
      "EPOCH 10700, Train loss: 0.041964467614889145, Test loss: 4.034172058105469\n",
      "EPOCH 10800, Train loss: 0.0223810113966465, Test loss: 4.044241905212402\n",
      "EPOCH 10900, Train loss: 0.03451498597860336, Test loss: 3.6935088634490967\n",
      "EPOCH 11000, Train loss: 0.039754435420036316, Test loss: 3.987217903137207\n",
      "EPOCH 11100, Train loss: 0.023212246596813202, Test loss: 4.015805721282959\n",
      "EPOCH 11200, Train loss: 0.034824345260858536, Test loss: 3.698957920074463\n",
      "EPOCH 11300, Train loss: 0.03845161572098732, Test loss: 3.887462615966797\n",
      "EPOCH 11400, Train loss: 0.01897556334733963, Test loss: 4.180218696594238\n",
      "EPOCH 11500, Train loss: 0.03156422823667526, Test loss: 3.911349058151245\n",
      "EPOCH 11600, Train loss: 0.020806724205613136, Test loss: 4.056334495544434\n",
      "EPOCH 11700, Train loss: 0.04826224595308304, Test loss: 3.529080867767334\n",
      "EPOCH 11800, Train loss: 0.04007270932197571, Test loss: 3.8586161136627197\n",
      "EPOCH 11900, Train loss: 0.025767182931303978, Test loss: 3.9017415046691895\n",
      "EPOCH 12000, Train loss: 0.038506023585796356, Test loss: 3.8264925479888916\n",
      "EPOCH 12100, Train loss: 0.04300226271152496, Test loss: 3.9997544288635254\n",
      "EPOCH 12200, Train loss: 0.027520345523953438, Test loss: 3.837217092514038\n",
      "EPOCH 12300, Train loss: 0.03013606369495392, Test loss: 3.8043389320373535\n",
      "EPOCH 12400, Train loss: 0.0163437332957983, Test loss: 4.231210231781006\n",
      "EPOCH 12500, Train loss: 0.02322789840400219, Test loss: 3.9814021587371826\n",
      "EPOCH 12600, Train loss: 0.049157168716192245, Test loss: 4.640894412994385\n",
      "EPOCH 12700, Train loss: 0.06752615422010422, Test loss: 4.125351428985596\n",
      "EPOCH 12800, Train loss: 0.033369679003953934, Test loss: 3.909879207611084\n",
      "EPOCH 12900, Train loss: 0.04171847552061081, Test loss: 4.121349811553955\n",
      "EPOCH 13000, Train loss: 0.02300848439335823, Test loss: 3.9474291801452637\n",
      "EPOCH 13100, Train loss: 0.03638764098286629, Test loss: 3.589686870574951\n",
      "EPOCH 13200, Train loss: 0.04030421003699303, Test loss: 3.8242475986480713\n",
      "EPOCH 13300, Train loss: 0.022175785154104233, Test loss: 4.0015459060668945\n",
      "EPOCH 13400, Train loss: 0.04395436868071556, Test loss: 4.188515663146973\n",
      "EPOCH 13500, Train loss: 0.022007379680871964, Test loss: 3.9748098850250244\n",
      "EPOCH 13600, Train loss: 0.03420167416334152, Test loss: 3.628556489944458\n",
      "EPOCH 13700, Train loss: 0.05143742263317108, Test loss: 4.46646785736084\n",
      "EPOCH 13800, Train loss: 0.02313845418393612, Test loss: 3.910367012023926\n",
      "EPOCH 13900, Train loss: 0.0371067151427269, Test loss: 3.6637985706329346\n",
      "EPOCH 14000, Train loss: 0.046161189675331116, Test loss: 4.1772141456604\n",
      "EPOCH 14100, Train loss: 0.020830733701586723, Test loss: 4.1007795333862305\n",
      "EPOCH 14200, Train loss: 0.0350913442671299, Test loss: 3.575688362121582\n",
      "EPOCH 14300, Train loss: 0.037638742476701736, Test loss: 4.092756271362305\n",
      "EPOCH 14400, Train loss: 0.020831527188420296, Test loss: 3.9593615531921387\n"
     ]
    }
   ],
   "source": [
    "while epoch < 20_000:\n",
    "    model.train()\n",
    "\n",
    "    logits, loss = model(x, y)\n",
    "    model.zero_grad()\n",
    "    loss.backward()\n",
    "    optim.step()\n",
    "    gc.collect()  # hmm\n",
    "    if not epoch%50:\n",
    "        train_loss = loss.sum()\n",
    "        train_losses.append(train_loss)\n",
    "        model.eval()\n",
    "        logits, test_loss = model(x_test, y_test)\n",
    "        test_loss = test_loss.sum()\n",
    "        test_losses.append(test_loss)\n",
    "        if not epoch % 100:\n",
    "                print(f\"EPOCH {epoch}, Train loss: {train_loss}, Test loss: {test_loss}\")\n",
    "\n",
    "    epoch += 1\n",
    "\n"
   ]
  },
  {
   "cell_type": "code",
   "execution_count": null,
   "metadata": {},
   "outputs": [],
   "source": [
    "results = []\n",
    "factors = np.array([[10**i for i in range(N_DIGITS+1)][::-1]]) \n",
    "# for xt in x_test:\n",
    "# xt = np.expand_dims(xt, axis=0)\n",
    "\n",
    "xt = x_test\n",
    "d1d2 = xt[:, :N_DIGITS*2]\n",
    "\n",
    "d1d2d3 = model.generate(d1d2, N_DIGITS+1)\n",
    "\n",
    "# isolate the last digit of the sampled sequence\n",
    "d3 = d1d2d3[:, -(N_DIGITS+1):]\n",
    "d3 = np.flip(d3, axis=1) # reverse the digits to their \"normal\" order\n",
    "# decode the integers from individual digits\n",
    "d1i = (d1d2[:,:N_DIGITS] * factors[:,1:]).sum(1)\n",
    "d2i = (d1d2[:,N_DIGITS:N_DIGITS*2] * factors[:,1:]).sum(1)\n",
    "d3i_pred = np.sum(d3 * factors, axis=1)\n",
    "d3i_gt = d1i + d2i # manually calculate the ground truth\n",
    "# evaluate the correctness of the results in this batch\n",
    "correct = np.equal(d3i_pred, d3i_gt)\n",
    "for i in range(len(xt)):\n",
    "    results.append(int(correct[i]))\n",
    "        # if not correct[i]:\n",
    "        #     print(f\"GPT claims that {d1i[i]} + {d2i[i]} = {d3i_pred[i]} but gt is {d3i_gt[i]}\")"
   ]
  },
  {
   "cell_type": "code",
   "execution_count": null,
   "metadata": {},
   "outputs": [
    {
     "data": {
      "text/plain": [
       "0"
      ]
     },
     "execution_count": 9,
     "metadata": {},
     "output_type": "execute_result"
    }
   ],
   "source": [
    "sum(results)"
   ]
  },
  {
   "cell_type": "code",
   "execution_count": null,
   "metadata": {},
   "outputs": [
    {
     "data": {
      "text/plain": [
       "20000"
      ]
     },
     "execution_count": 10,
     "metadata": {},
     "output_type": "execute_result"
    }
   ],
   "source": [
    "epoch"
   ]
  },
  {
   "cell_type": "code",
   "execution_count": null,
   "metadata": {},
   "outputs": [
    {
     "data": {
      "text/plain": [
       "6"
      ]
     },
     "execution_count": 11,
     "metadata": {},
     "output_type": "execute_result"
    }
   ],
   "source": [
    "N_DIGITS"
   ]
  },
  {
   "cell_type": "code",
   "execution_count": null,
   "metadata": {},
   "outputs": [],
   "source": [
    "# loss.sum()"
   ]
  },
  {
   "cell_type": "code",
   "execution_count": null,
   "metadata": {},
   "outputs": [],
   "source": [
    "import matplotlib.pyplot as plt"
   ]
  },
  {
   "cell_type": "code",
   "execution_count": null,
   "metadata": {},
   "outputs": [
    {
     "data": {
      "text/plain": [
       "<matplotlib.legend.Legend at 0x7f85141e7940>"
      ]
     },
     "execution_count": 14,
     "metadata": {},
     "output_type": "execute_result"
    },
    {
     "data": {
      "image/png": "[encoded data removed]",
      "text/plain": [
       "<Figure size 640x480 with 1 Axes>"
      ]
     },
     "metadata": {},
     "output_type": "display_data"
    }
   ],
   "source": [
    "# Plot the loss curve\n",
    "epochs = list(range(0, len(train_losses)*50, 50))\n",
    "plt.plot(epochs, train_losses, label='Train Loss')\n",
    "plt.plot(epochs, test_losses, label='Test Loss')\n",
    "# Add labels and title\n",
    "plt.xlabel('Epochs')\n",
    "plt.ylabel('Loss')\n",
    "plt.title('Loss Curve')\n",
    "plt.legend()"
   ]
  },
  {
   "cell_type": "code",
   "execution_count": null,
   "metadata": {},
   "outputs": [],
   "source": [
    "# plt.show()"
   ]
  }
 ],
 "metadata": {
  "kernelspec": {
   "display_name": "nptransformer",
   "language": "python",
   "name": "python3"
  },
  "language_info": {
   "codemirror_mode": {
    "name": "ipython",
    "version": 3
   },
   "file_extension": ".py",
   "mimetype": "text/x-python",
   "name": "python",
   "nbconvert_exporter": "python",
   "pygments_lexer": "ipython3",
   "version": "3.8.15"
  },
  "orig_nbformat": 4,
  "vscode": {
   "interpreter": {
    "hash": "aa70d3be912253ccf88a5dee3580721a0a4a9993974f6dea8c9ea642959999c8"
   }
  }
 },
 "nbformat": 4,
 "nbformat_minor": 2
}
