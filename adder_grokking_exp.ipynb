{
 "cells": [
  {
   "cell_type": "code",
   "execution_count": 1,
   "metadata": {},
   "outputs": [],
   "source": [
    "import numpy as np\n",
    "import random\n",
    "\n",
    "from nptransformer.gpt import GPT\n",
    "from nptransformer.optim import Adam, SGD\n",
    "\n",
    "import gc"
   ]
  },
  {
   "cell_type": "code",
   "execution_count": null,
   "metadata": {},
   "outputs": [],
   "source": []
  },
  {
   "cell_type": "code",
   "execution_count": 2,
   "metadata": {},
   "outputs": [],
   "source": [
    "def generate_addition_dataset(n_adds=700, n_digits=5):\n",
    "    n_possible_digits = 10**n_digits\n",
    "    xs = []\n",
    "    ys = []\n",
    "    for _ in range(n_adds):\n",
    "        a = random.randint(0, n_possible_digits-1)\n",
    "        b = random.randint(0, n_possible_digits-1) \n",
    "        c = a + b\n",
    "        # encode the digits of a, b, c into strings\n",
    "        astr = f'%0{n_digits}d' % a\n",
    "        bstr = f'%0{n_digits}d' % b\n",
    "        cstr = (f'%0{n_digits+1}d' % c)[::-1]\n",
    "\n",
    "        render = astr + bstr + cstr\n",
    "\n",
    "        dix = [int(s) for s in render]\n",
    "\n",
    "        x = np.array(dix[:-1])\n",
    "        xs.append(x)\n",
    "\n",
    "        y = np.array(dix[1:])\n",
    "        y[:n_digits*2-1] = -1 \n",
    "        ys.append(y)\n",
    "\n",
    "    xs = np.array(xs)\n",
    "    ys = np.array(ys)\n",
    "\n",
    "    return xs, ys\n"
   ]
  },
  {
   "cell_type": "code",
   "execution_count": 3,
   "metadata": {},
   "outputs": [],
   "source": [
    "N_DIGITS = 5\n",
    "BLOCK_SIZE = 3*N_DIGITS\n",
    "VOCAB_SIZE = 10"
   ]
  },
  {
   "cell_type": "code",
   "execution_count": 4,
   "metadata": {},
   "outputs": [],
   "source": [
    "model = GPT(n_layers=1, n_heads=4, n_embd=64, vocab_size=VOCAB_SIZE, block_size=BLOCK_SIZE, pdrop=0)\n",
    "optim = Adam(model.get_trainable_tensors(), learning_rate=1e-3, weight_decay=3.)"
   ]
  },
  {
   "cell_type": "code",
   "execution_count": 5,
   "metadata": {},
   "outputs": [],
   "source": [
    "\n",
    "train_dataset = generate_addition_dataset(n_adds=500)\n",
    "x, y = train_dataset\n",
    "\n",
    "test_dataset = generate_addition_dataset(n_adds=1000)\n",
    "x_test, y_test = test_dataset"
   ]
  },
  {
   "cell_type": "code",
   "execution_count": 6,
   "metadata": {},
   "outputs": [],
   "source": [
    "train_losses = []\n",
    "test_losses = []\n",
    "epoch = 0"
   ]
  },
  {
   "cell_type": "code",
   "execution_count": null,
   "metadata": {},
   "outputs": [],
   "source": []
  },
  {
   "cell_type": "code",
   "execution_count": 7,
   "metadata": {},
   "outputs": [
    {
     "name": "stdout",
     "output_type": "stream",
     "text": [
      "EPOCH 0\n",
      "Train loss: 2.3027096\n",
      "Test loss: 2.3022075\n",
      "EPOCH 500\n",
      "Train loss: 1.8488393\n",
      "Test loss: 1.9695163\n",
      "EPOCH 1000\n",
      "Train loss: 1.4325033\n",
      "Test loss: 1.8677247\n",
      "EPOCH 1500\n",
      "Train loss: 0.6668143\n",
      "Test loss: 2.6969647\n"
     ]
    }
   ],
   "source": [
    "# for epoch in range(20_000):\n",
    "while epoch < 20_000:\n",
    "    model.train()\n",
    "\n",
    "    logits, loss = model(x, y)\n",
    "    model.zero_grad()\n",
    "    loss.backward()\n",
    "    optim.step()\n",
    "    gc.collect()\n",
    "    if not epoch%50:\n",
    "        train_loss = loss.sum()\n",
    "        train_losses.append(train_loss)\n",
    "        model.eval()\n",
    "        logits, test_loss = model(x_test, y_test)\n",
    "        test_loss = test_loss.sum()\n",
    "        test_losses.append(test_loss)\n",
    "        if not epoch % 500:\n",
    "            print(f\"EPOCH {epoch}\")\n",
    "            print(\"Train loss:\", train_loss)\n",
    "            print(\"Test loss:\", test_loss)\n",
    "    epoch += 1\n",
    "\n"
   ]
  },
  {
   "cell_type": "code",
   "execution_count": null,
   "metadata": {},
   "outputs": [],
   "source": [
    "results = []\n",
    "factors = np.array([[10**i for i in range(N_DIGITS+1)][::-1]]) \n",
    "# for xt in x_test:\n",
    "# xt = np.expand_dims(xt, axis=0)\n",
    "\n",
    "xt = x_test\n",
    "d1d2 = xt[:, :N_DIGITS*2]\n",
    "\n",
    "d1d2d3 = model.generate(d1d2, N_DIGITS+1)\n",
    "\n",
    "# isolate the last digit of the sampled sequence\n",
    "d3 = d1d2d3[:, -(N_DIGITS+1):]\n",
    "d3 = np.flip(d3, axis=1) # reverse the digits to their \"normal\" order\n",
    "# decode the integers from individual digits\n",
    "d1i = (d1d2[:,:N_DIGITS] * factors[:,1:]).sum(1)\n",
    "d2i = (d1d2[:,N_DIGITS:N_DIGITS*2] * factors[:,1:]).sum(1)\n",
    "d3i_pred = np.sum(d3 * factors, axis=1)\n",
    "d3i_gt = d1i + d2i # manually calculate the ground truth\n",
    "# evaluate the correctness of the results in this batch\n",
    "correct = np.equal(d3i_pred, d3i_gt)\n",
    "for i in range(len(xt)):\n",
    "    results.append(int(correct[i]))\n",
    "        # if not correct[i]:\n",
    "        #     print(f\"GPT claims that {d1i[i]} + {d2i[i]} = {d3i_pred[i]} but gt is {d3i_gt[i]}\")"
   ]
  },
  {
   "cell_type": "code",
   "execution_count": null,
   "metadata": {},
   "outputs": [
    {
     "data": {
      "text/plain": [
       "0"
      ]
     },
     "execution_count": 19,
     "metadata": {},
     "output_type": "execute_result"
    }
   ],
   "source": [
    "sum(results)"
   ]
  },
  {
   "cell_type": "code",
   "execution_count": null,
   "metadata": {},
   "outputs": [
    {
     "data": {
      "text/plain": [
       "8251"
      ]
     },
     "execution_count": 17,
     "metadata": {},
     "output_type": "execute_result"
    }
   ],
   "source": [
    "epoch"
   ]
  },
  {
   "cell_type": "code",
   "execution_count": null,
   "metadata": {},
   "outputs": [
    {
     "data": {
      "text/plain": [
       "6"
      ]
     },
     "execution_count": 21,
     "metadata": {},
     "output_type": "execute_result"
    }
   ],
   "source": [
    "N_DIGITS"
   ]
  },
  {
   "cell_type": "code",
   "execution_count": null,
   "metadata": {},
   "outputs": [
    {
     "data": {
      "text/plain": [
       "0.010211577"
      ]
     },
     "execution_count": 20,
     "metadata": {},
     "output_type": "execute_result"
    }
   ],
   "source": [
    "# loss.sum()"
   ]
  },
  {
   "cell_type": "code",
   "execution_count": null,
   "metadata": {},
   "outputs": [],
   "source": [
    "import matplotlib.pyplot as plt"
   ]
  },
  {
   "cell_type": "code",
   "execution_count": null,
   "metadata": {},
   "outputs": [
    {
     "data": {
      "text/plain": [
       "<matplotlib.legend.Legend at 0x7f969cff12e0>"
      ]
     },
     "execution_count": 12,
     "metadata": {},
     "output_type": "execute_result"
    },
    {
     "data": {
      "image/png": "[encoded data removed]",
      "text/plain": [
       "<Figure size 640x480 with 1 Axes>"
      ]
     },
     "metadata": {},
     "output_type": "display_data"
    }
   ],
   "source": [
    "# Plot the loss curve\n",
    "epochs = list(range(0, len(train_losses)*50, 50))\n",
    "plt.plot(epochs, train_losses, label='Train Loss')\n",
    "plt.plot(epochs, test_losses, label='Test Loss')\n",
    "# Add labels and title\n",
    "plt.xlabel('Epochs')\n",
    "plt.ylabel('Loss')\n",
    "plt.title('Loss Curve')\n",
    "plt.legend()"
   ]
  },
  {
   "cell_type": "code",
   "execution_count": null,
   "metadata": {},
   "outputs": [],
   "source": [
    "# plt.show()"
   ]
  }
 ],
 "metadata": {
  "kernelspec": {
   "display_name": "nptransformer",
   "language": "python",
   "name": "python3"
  },
  "language_info": {
   "codemirror_mode": {
    "name": "ipython",
    "version": 3
   },
   "file_extension": ".py",
   "mimetype": "text/x-python",
   "name": "python",
   "nbconvert_exporter": "python",
   "pygments_lexer": "ipython3",
   "version": "3.8.15"
  },
  "orig_nbformat": 4,
  "vscode": {
   "interpreter": {
    "hash": "aa70d3be912253ccf88a5dee3580721a0a4a9993974f6dea8c9ea642959999c8"
   }
  }
 },
 "nbformat": 4,
 "nbformat_minor": 2
}
