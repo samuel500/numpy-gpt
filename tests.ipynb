{
 "cells": [
  {
   "cell_type": "code",
   "execution_count": 1,
   "metadata": {},
   "outputs": [],
   "source": [
    "import os\n",
    "import numpy as np\n",
    "import random\n",
    "import urllib.request\n",
    "from npgpt.tensor import Tensor, Linear, SequentialModel, Model, Sigmoid, Tanh, ReLU, NewGELU, Softmax, LogSoftmax, cross_entropy\n",
    "from npgpt.optim import SGD, Adam"
   ]
  },
  {
   "cell_type": "code",
   "execution_count": 3,
   "metadata": {},
   "outputs": [],
   "source": [
    "# Download the dataset if it's not already there\n",
    "if not os.path.isfile('mnist.npz'):\n",
    "    url = \"https://s3.amazonaws.com/img-datasets/mnist.npz\"\n",
    "    urllib.request.urlretrieve(url, \"mnist.npz\")"
   ]
  },
  {
   "cell_type": "code",
   "execution_count": 4,
   "metadata": {},
   "outputs": [],
   "source": [
    "with np.load(\"mnist.npz\", allow_pickle=True) as f:\n",
    "    x_train, y_train = f['x_train'], f['y_train']\n",
    "    x_test, y_test = f['x_test'], f['y_test']"
   ]
  },
  {
   "cell_type": "code",
   "execution_count": 5,
   "metadata": {},
   "outputs": [
    {
     "data": {
      "text/plain": [
       "(60000, 28, 28)"
      ]
     },
     "execution_count": 5,
     "metadata": {},
     "output_type": "execute_result"
    }
   ],
   "source": [
    "x_train.shape"
   ]
  },
  {
   "cell_type": "code",
   "execution_count": 6,
   "metadata": {},
   "outputs": [
    {
     "data": {
      "text/plain": [
       "(28, 28)"
      ]
     },
     "execution_count": 6,
     "metadata": {},
     "output_type": "execute_result"
    }
   ],
   "source": [
    "x_train[0].shape"
   ]
  },
  {
   "cell_type": "code",
   "execution_count": 7,
   "metadata": {},
   "outputs": [
    {
     "data": {
      "text/plain": [
       "dtype('uint8')"
      ]
     },
     "execution_count": 7,
     "metadata": {},
     "output_type": "execute_result"
    }
   ],
   "source": [
    "x_train[0].dtype"
   ]
  },
  {
   "cell_type": "code",
   "execution_count": 8,
   "metadata": {},
   "outputs": [
    {
     "data": {
      "text/plain": [
       "60000"
      ]
     },
     "execution_count": 8,
     "metadata": {},
     "output_type": "execute_result"
    }
   ],
   "source": [
    "len(x_train)"
   ]
  },
  {
   "cell_type": "code",
   "execution_count": 9,
   "metadata": {},
   "outputs": [],
   "source": [
    "model = SequentialModel(\n",
    "    layers = [\n",
    "        Linear(784, 256, nonlin=NewGELU), \n",
    "        Linear(256, 128, nonlin=NewGELU), \n",
    "        Linear(128, 10, nonlin=None), \n",
    "    ]\n",
    "    \n",
    ")"
   ]
  },
  {
   "cell_type": "code",
   "execution_count": 10,
   "metadata": {},
   "outputs": [],
   "source": [
    "# optimizer = SGD(model.get_trainable_tensors(), learning_rate=1e-2)\n",
    "optimizer = Adam(model.get_tensors(), learning_rate=1e-3)"
   ]
  },
  {
   "cell_type": "code",
   "execution_count": 11,
   "metadata": {},
   "outputs": [],
   "source": [
    "for _ in range(3):\n",
    "    shuffle_indices = np.arange(len(x_train))\n",
    "    np.random.shuffle(shuffle_indices)\n",
    "    batch_size = 64\n",
    "    bc = 0\n",
    "    while bc < len(x_train):\n",
    "        x = x_train[bc: bc+batch_size]\n",
    "\n",
    "        x = np.float32(x)\n",
    "        x /= 255.\n",
    "        x = x.reshape((x.shape[0], np.prod(x.shape[1:])))\n",
    "        X = Tensor(x, nograd=True)\n",
    "        \n",
    "        out = model(X)\n",
    "\n",
    "        y = np.eye(10)[y_train[bc: bc+batch_size]]\n",
    "        correct = Tensor(y, nograd=True)\n",
    "\n",
    "        LOSS = cross_entropy(out, correct)\n",
    "\n",
    "        model.zero_grad()\n",
    "\n",
    "        LOSS.backward()\n",
    "\n",
    "        optimizer.step()\n",
    "        \n",
    "        bc += batch_size"
   ]
  },
  {
   "cell_type": "code",
   "execution_count": 12,
   "metadata": {},
   "outputs": [
    {
     "name": "stdout",
     "output_type": "stream",
     "text": [
      "9680\n",
      "0.968\n"
     ]
    }
   ],
   "source": [
    "x_test_a = x_test\n",
    "correct = 0\n",
    "for i, x in enumerate(x_test_a):\n",
    "    x = x.flatten()\n",
    "    x = np.float32(x)\n",
    "    x /= 255.\n",
    "    x = x.reshape((1, *x.shape))\n",
    "    X = Tensor(x)\n",
    "    \n",
    "    out = model(X)\n",
    "\n",
    "    if np.argmax(out.data) == y_test[i]:\n",
    "        correct += 1\n",
    "\n",
    "print(correct)\n",
    "print(correct/len(x_test_a))"
   ]
  },
  {
   "cell_type": "code",
   "execution_count": null,
   "metadata": {},
   "outputs": [],
   "source": []
  }
 ],
 "metadata": {
  "kernelspec": {
   "display_name": "nptransformer",
   "language": "python",
   "name": "python3"
  },
  "language_info": {
   "codemirror_mode": {
    "name": "ipython",
    "version": 3
   },
   "file_extension": ".py",
   "mimetype": "text/x-python",
   "name": "python",
   "nbconvert_exporter": "python",
   "pygments_lexer": "ipython3",
   "version": "3.8.15"
  },
  "orig_nbformat": 4,
  "vscode": {
   "interpreter": {
    "hash": "aa70d3be912253ccf88a5dee3580721a0a4a9993974f6dea8c9ea642959999c8"
   }
  }
 },
 "nbformat": 4,
 "nbformat_minor": 2
}
