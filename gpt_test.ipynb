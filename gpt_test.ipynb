{
 "cells": [
  {
   "cell_type": "code",
   "execution_count": null,
   "metadata": {},
   "outputs": [],
   "source": [
    "import numpy as np\n",
    "import random\n",
    "from nptransformer.tensor import Tensor, Linear, SequentialModel, Sigmoid, Tanh, ReLU, NewGELU, Softmax\n",
    "from nptransformer.gpt import GPT"
   ]
  }
 ],
 "metadata": {
  "kernelspec": {
   "display_name": "nptransformer",
   "language": "python",
   "name": "python3"
  },
  "language_info": {
   "name": "python",
   "version": "3.8.15 (default, Nov 24 2022, 15:19:38) \n[GCC 11.2.0]"
  },
  "orig_nbformat": 4,
  "vscode": {
   "interpreter": {
    "hash": "aa70d3be912253ccf88a5dee3580721a0a4a9993974f6dea8c9ea642959999c8"
   }
  }
 },
 "nbformat": 4,
 "nbformat_minor": 2
}
